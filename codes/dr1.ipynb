{
 "cells": [
  {
   "cell_type": "code",
   "execution_count": 13,
   "id": "a0b00f9c",
   "metadata": {},
   "outputs": [],
   "source": [
    "import os\n",
    "import numpy as np\n",
    "from PIL import Image\n",
    "from sklearn.svm import SVC\n",
    "from sklearn.model_selection import train_test_split\n",
    "from sklearn.preprocessing import StandardScaler\n",
    "from sklearn.metrics import classification_report"
   ]
  },
  {
   "cell_type": "code",
   "execution_count": null,
   "id": "24b74d43",
   "metadata": {},
   "outputs": [],
   "source": [
    "IMAGE_SIZE = (32, 21)"
   ]
  },
  {
   "cell_type": "code",
   "execution_count": 24,
   "id": "4367e3f9",
   "metadata": {},
   "outputs": [],
   "source": [
    "def load_dataset(path):\n",
    "    X, y = [], []\n",
    "    class_names = sorted(os.listdir(path))\n",
    "    label_map = {cls:i for i, cls in enumerate(class_names)}\n",
    "\n",
    "    for cls in class_names:\n",
    "        cls_path = os.path.join(path, cls)\n",
    "        for file in os.listdir(cls_path):\n",
    "            img_path = os.path.join(cls_path, file)\n",
    "            img = Image.open(img_path).convert('RGB').resize(IMAGE_SIZE)\n",
    "            img_array = np.array(img).flatten()\n",
    "            X.append(img_array)\n",
    "            y.append(label_map[cls])\n",
    "    return np.array(X), np.array(y), class_names"
   ]
  },
  {
   "cell_type": "code",
   "execution_count": null,
   "id": "a01e71a8",
   "metadata": {},
   "outputs": [],
   "source": [
    "X, y, class_names = load_dataset(\"../datasets/dr\")\n",
    "X_train, X_test, y_train, y_test = train_test_split(X, y, train_size=0.3, random_state=42)"
   ]
  },
  {
   "cell_type": "code",
   "execution_count": 29,
   "id": "efe762f3",
   "metadata": {},
   "outputs": [],
   "source": [
    "scaler = StandardScaler()\n",
    "X_train_scaled = scaler.fit_transform(X_train)\n",
    "X_test_scaled = scaler.fit_transform(X_test)"
   ]
  },
  {
   "cell_type": "code",
   "execution_count": 32,
   "id": "f444d190",
   "metadata": {},
   "outputs": [],
   "source": [
    "svm = SVC(kernel='rbf', gamma='scale')\n",
    "svm.fit(X_train_scaled, y_train)\n",
    "y_pred = svm.predict(X_test_scaled)"
   ]
  },
  {
   "cell_type": "code",
   "execution_count": 34,
   "id": "ed23b20a",
   "metadata": {},
   "outputs": [
    {
     "name": "stdout",
     "output_type": "stream",
     "text": [
      "Classification Report:\n",
      "               precision    recall  f1-score   support\n",
      "\n",
      "     control       0.59      0.57      0.58       183\n",
      " retinopathy       0.67      0.68      0.67       229\n",
      "\n",
      "    accuracy                           0.63       412\n",
      "   macro avg       0.63      0.63      0.63       412\n",
      "weighted avg       0.63      0.63      0.63       412\n",
      "\n"
     ]
    }
   ],
   "source": [
    "print(\"Classification Report:\\n\", classification_report(y_test, y_pred, target_names=class_names))"
   ]
  }
 ],
 "metadata": {
  "kernelspec": {
   "display_name": "venv",
   "language": "python",
   "name": "python3"
  },
  "language_info": {
   "codemirror_mode": {
    "name": "ipython",
    "version": 3
   },
   "file_extension": ".py",
   "mimetype": "text/x-python",
   "name": "python",
   "nbconvert_exporter": "python",
   "pygments_lexer": "ipython3",
   "version": "3.12.3"
  }
 },
 "nbformat": 4,
 "nbformat_minor": 5
}
